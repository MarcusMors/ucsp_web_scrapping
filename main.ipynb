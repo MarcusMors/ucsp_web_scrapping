{
 "cells": [
  {
   "cell_type": "code",
   "execution_count": null,
   "metadata": {},
   "outputs": [],
   "source": [
    "# from bs4 import BeautifulSoup\n",
    "from playwright.sync_api import sync_playwright"
   ]
  },
  {
   "cell_type": "code",
   "execution_count": null,
   "metadata": {},
   "outputs": [],
   "source": [
    "\n",
    "virtual_ucsp_login_url: str = \"https://accounts.google.com/o/oauth2/v2/auth/identifier?client_id=95208330785-4d7086dmtrllm99c38m6bv0dkvjrm9ot.apps.googleusercontent.com&response_type=code&redirect_uri=https%3A%2F%2Fvirtual.ucsp.edu.pe%2Fadmin%2Foauth2callback.php&state=%2Fauth%2Foauth2%2Flogin.php%3Fwantsurl%3Dhttps%253A%252F%252Fvirtual.ucsp.edu.pe%252F%26sesskey%3DEt6pFTwPgM%26id%3D1&scope=openid%20profile%20email&flowName=GeneralOAuthFlow\"\n",
    "# virtual_ucsp_login_url: str = \"https://virtual.ucsp.edu.pe/login/index.php\"\n",
    "user_info = {\n",
    "    \"id\": \"jose.vilca.campana@ucsp.edu.pe\",\n",
    "    \"password\": \"VCJ41207\"\n",
    "}\n",
    "# virtual_ucsp_home_url: str = \"https://virtual.ucsp.edu.pe/\"\n",
    "\n",
    "# the anchor of each course is in div.card AND  data-type=\"1\"\n"
   ]
  },
  {
   "cell_type": "code",
   "execution_count": null,
   "metadata": {},
   "outputs": [],
   "source": [
    "with sync_playwright() as p:\n",
    "    browser = p.chromium.launch(headless=False, slow_mo=50)\n",
    "    # browser = p.chromium.launch()\n",
    "    page = browser.new_page()\n",
    "    page.goto(virtual_ucsp_login_url)\n",
    "    # page.click(\"a[title=Google]\")\n",
    "    # html = page.inner_html(\"#identifierId\")\n",
    "    html = page.inner_html(\"body\")\n",
    "    # page.fill('#identifierId', user_info[\"id\"])\n",
    "    # page.click(\"#identifierNext\")\n",
    "    # page.fill('[name=password]', user_info[\"password\"])\n",
    "    # page.click(\"#passwordNext\")\n",
    "    # html = page.inner_html(\"li[data-key=mycourses\")\n",
    "    print(html)\n"
   ]
  }
 ],
 "metadata": {
  "kernelspec": {
   "display_name": "Python 3.9.6 64-bit (system)",
   "language": "python",
   "name": "python3"
  },
  "language_info": {
   "name": "python",
   "version": "3.9.6"
  },
  "orig_nbformat": 4,
  "vscode": {
   "interpreter": {
    "hash": "2a8dfe095fce2b5e88c64a2c3ee084c8e0e0d70b23e7b95b1cfb538be294c5c8"
   }
  }
 },
 "nbformat": 4,
 "nbformat_minor": 2
}
